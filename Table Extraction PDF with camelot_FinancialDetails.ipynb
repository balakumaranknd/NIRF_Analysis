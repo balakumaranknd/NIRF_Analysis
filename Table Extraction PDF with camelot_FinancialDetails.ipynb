{
 "cells": [
  {
   "cell_type": "code",
   "execution_count": 178,
   "id": "73bda3a8",
   "metadata": {},
   "outputs": [],
   "source": [
    "import camelot\n",
    "import pandas as pd\n",
    "import numpy as np\n",
    "import seaborn as sns\n",
    "import matplotlib.pyplot as plt\n",
    "\n",
    "import warnings\n",
    "warnings.filterwarnings(\"ignore\")"
   ]
  },
  {
   "cell_type": "code",
   "execution_count": 179,
   "id": "e1528ca9",
   "metadata": {},
   "outputs": [],
   "source": [
    "rank_1 = camelot.read_pdf(\"1_IITM.pdf\",pages='all')\n",
    "rank_2 = camelot.read_pdf(\"2_IITD.pdf\",pages='all')\n",
    "rank_3 = camelot.read_pdf(\"3_IITB.pdf\",pages='all')\n",
    "rank_4 = camelot.read_pdf(\"4_IITK.pdf\",pages='all')\n",
    "rank_5 = camelot.read_pdf(\"5_IITKh.pdf\",pages='all')"
   ]
  },
  {
   "cell_type": "markdown",
   "id": "5f155119",
   "metadata": {},
   "source": [
    "# Capital Expenditure"
   ]
  },
  {
   "cell_type": "code",
   "execution_count": 180,
   "id": "fcca5d58",
   "metadata": {},
   "outputs": [
    {
     "name": "stdout",
     "output_type": "stream",
     "text": [
      "                                                       2019-20     2018-19  \\\n",
      "0                                                                            \n",
      "Library ( Books, Journals and e-Resources only)      181223515   174628165   \n",
      "New Equipment and software for Laboratories         1865813663  2052783456   \n",
      "Engineering Workshops                                   519428     4157456   \n",
      "Other expenditure on creation of Capital Assets...   256594552    55256201   \n",
      "\n",
      "                                                       2017-18  \n",
      "0                                                               \n",
      "Library ( Books, Journals and e-Resources only)      188456181  \n",
      "New Equipment and software for Laboratories         1838176237  \n",
      "Engineering Workshops                                  6288472  \n",
      "Other expenditure on creation of Capital Assets...   131891456  \n",
      "\n",
      "2019-20    int32\n",
      "2018-19    int32\n",
      "2017-18    int32\n",
      "dtype: object\n"
     ]
    }
   ],
   "source": [
    "capex_1 = rank_1[7].df\n",
    "\n",
    "capex_1.drop(index=0,axis=0,inplace=True)\n",
    "capex_1.set_index(keys=0,drop=True,inplace=True)\n",
    "\n",
    "capex_1.columns = ['2019-20','2018-19','2017-18']\n",
    "\n",
    "records = [0,1,2,3]\n",
    "\n",
    "for i in records:\n",
    "    capex_1.iloc[i,0] = capex_1.iloc[i,0].split('(')[0]\n",
    "    \n",
    "for i in records:\n",
    "    capex_1.iloc[i,1] = capex_1.iloc[i,1].split('(')[0]\n",
    "    \n",
    "for i in records:\n",
    "    capex_1.iloc[i,2] = capex_1.iloc[i,2].split('(')[0]\n",
    "\n",
    "int_columns = capex_1.columns\n",
    "\n",
    "for col in int_columns:\n",
    "    capex_1[col] = capex_1[col].astype('int')\n",
    "    \n",
    "print(capex_1)\n",
    "print()\n",
    "print(capex_1.dtypes)"
   ]
  },
  {
   "cell_type": "code",
   "execution_count": 181,
   "id": "642d1734",
   "metadata": {},
   "outputs": [],
   "source": [
    "capex_2 = rank_2[7].df\n",
    "\n",
    "capex_2.drop(index=[0,1,2],axis=0,inplace=True)"
   ]
  },
  {
   "cell_type": "code",
   "execution_count": 182,
   "id": "5f15d8a4",
   "metadata": {},
   "outputs": [
    {
     "name": "stdout",
     "output_type": "stream",
     "text": [
      "                                                       2019-20     2018-19  \\\n",
      "0                                                                            \n",
      "Library ( Books, Journals and e-Resources only)      170086147   160271963   \n",
      "New Equipment and software for Laboratories         1827027685  1793766462   \n",
      "Engineering Workshops                                  4058686     4302116   \n",
      "Other expenditure on creation of Capital Assets...   745381664   764538188   \n",
      "\n",
      "                                                       2017-18  \n",
      "0                                                               \n",
      "Library ( Books, Journals and e-Resources only)      146125000  \n",
      "New Equipment and software for Laboratories         1424680000  \n",
      "Engineering Workshops                                  5399000  \n",
      "Other expenditure on creation of Capital Assets...   894827000  \n",
      "\n",
      "2019-20    int32\n",
      "2018-19    int32\n",
      "2017-18    int32\n",
      "dtype: object\n"
     ]
    }
   ],
   "source": [
    "capex_2.set_index(keys=0,drop=True,inplace=True)\n",
    "\n",
    "capex_2.columns = ['2019-20','2018-19','2017-18']\n",
    "\n",
    "records = [0,1,2,3]\n",
    "\n",
    "for i in records:\n",
    "    capex_2.iloc[i,0] = capex_2.iloc[i,0].split('(')[0]\n",
    "    \n",
    "for i in records:\n",
    "    capex_2.iloc[i,1] = capex_2.iloc[i,1].split('(')[0]\n",
    "    \n",
    "for i in records:\n",
    "    capex_2.iloc[i,2] = capex_2.iloc[i,2].split('(')[0]\n",
    "\n",
    "int_columns = capex_2.columns\n",
    "\n",
    "for col in int_columns:\n",
    "    capex_2[col] = capex_2[col].astype('int')\n",
    "    \n",
    "print(capex_2)\n",
    "print()\n",
    "print(capex_2.dtypes)\n"
   ]
  },
  {
   "cell_type": "code",
   "execution_count": 183,
   "id": "66dbd108",
   "metadata": {},
   "outputs": [
    {
     "name": "stdout",
     "output_type": "stream",
     "text": [
      "                                                    2019-20     2018-19  \\\n",
      "0                                                                         \n",
      "Library ( Books, Journals and e-Resources only)   233311985   186529104   \n",
      "New Equipment and software for Laboratories      1358206293  1203696299   \n",
      "Engineering Workshops                               7800414    12162794   \n",
      "\n",
      "                                                   2017-18  \n",
      "0                                                           \n",
      "Library ( Books, Journals and e-Resources only)  166714860  \n",
      "New Equipment and software for Laboratories       86137020  \n",
      "Engineering Workshops                             24228357  \n",
      "\n",
      "2019-20    int32\n",
      "2018-19    int32\n",
      "2017-18    int32\n",
      "dtype: object\n"
     ]
    }
   ],
   "source": [
    "capex_3 = rank_3[6].df\n",
    "\n",
    "capex_3.drop(index=[0,1,2],axis=0,inplace=True)\n",
    "\n",
    "capex_3.set_index(keys=0,drop=True,inplace=True)\n",
    "\n",
    "capex_3.columns = ['2019-20','2018-19','2017-18']\n",
    "\n",
    "records = [0,1,2]\n",
    "\n",
    "for i in records:\n",
    "    capex_3.iloc[i,0] = capex_3.iloc[i,0].split(' (')[0]\n",
    "    \n",
    "for i in records:\n",
    "    capex_3.iloc[i,1] = capex_3.iloc[i,1].split('(')[0]\n",
    "    \n",
    "for i in records:\n",
    "    capex_3.iloc[i,2] = capex_3.iloc[i,2].split('(')[0]\n",
    "\n",
    "int_columns = capex_3.columns\n",
    "\n",
    "for col in int_columns:\n",
    "    capex_3[col] = capex_3[col].astype('int')\n",
    "    \n",
    "print(capex_3)\n",
    "print()\n",
    "print(capex_3.dtypes)\n"
   ]
  },
  {
   "cell_type": "code",
   "execution_count": 184,
   "id": "47f67a7d",
   "metadata": {},
   "outputs": [],
   "source": [
    "capex_4 = rank_4[5].df\n",
    "capex_4.drop(index=[0,1,2],axis=0,inplace=True)\n",
    "\n",
    "capex_4.set_index(keys=0,drop=True,inplace=True)\n",
    "\n",
    "capex_4.columns = ['2019-20','2018-19','2017-18']\n"
   ]
  },
  {
   "cell_type": "code",
   "execution_count": 185,
   "id": "68dcbeed",
   "metadata": {},
   "outputs": [],
   "source": [
    "records = [0,1,2,3]\n",
    "\n",
    "for i in records:\n",
    "    capex_4.iloc[i,0] = capex_4.iloc[i,0].split(' (')[0]\n",
    "    \n",
    "for i in records:\n",
    "    capex_4.iloc[i,1] = capex_4.iloc[i,1].split(' (')[0]\n",
    "    \n",
    "for i in records:\n",
    "    capex_4.iloc[i,2] = capex_4.iloc[i,2].split(' (')[0]\n"
   ]
  },
  {
   "cell_type": "code",
   "execution_count": 186,
   "id": "d91e2830",
   "metadata": {},
   "outputs": [
    {
     "name": "stdout",
     "output_type": "stream",
     "text": [
      "                                                      2019-20    2018-19  \\\n",
      "0                                                                          \n",
      "Library ( Books, Journals and e-Resources only)     168000000  153000000   \n",
      "New Equipment and software for Laboratories         685769251  674586035   \n",
      "Engineering Workshops                                98500000   44400000   \n",
      "Other expenditure on creation of Capital Assets...   73400000   46700000   \n",
      "\n",
      "                                                      2017-18  \n",
      "0                                                              \n",
      "Library ( Books, Journals and e-Resources only)     129600000  \n",
      "New Equipment and software for Laboratories         621194478  \n",
      "Engineering Workshops                                96400000  \n",
      "Other expenditure on creation of Capital Assets...   15000000  \n",
      "\n",
      "2019-20    int32\n",
      "2018-19    int32\n",
      "2017-18    int32\n",
      "dtype: object\n"
     ]
    }
   ],
   "source": [
    "int_columns = capex_4.columns\n",
    "\n",
    "for col in int_columns:\n",
    "    capex_4[col] = capex_4[col].astype('int')\n",
    "    \n",
    "print(capex_4)\n",
    "print()\n",
    "print(capex_4.dtypes)"
   ]
  },
  {
   "cell_type": "code",
   "execution_count": 187,
   "id": "bbc697e5",
   "metadata": {},
   "outputs": [
    {
     "name": "stdout",
     "output_type": "stream",
     "text": [
      "                                                      2019-20    2018-19  \\\n",
      "0                                                                          \n",
      "Library ( Books, Journals and e-Resources only)     227325689  220397215   \n",
      "New Equipment and software for Laboratories         224238505  117316668   \n",
      "Engineering Workshops                                       0          0   \n",
      "Other expenditure on creation of Capital Assets...  275567881  589182201   \n",
      "\n",
      "                                                      2017-18  \n",
      "0                                                              \n",
      "Library ( Books, Journals and e-Resources only)     175230715  \n",
      "New Equipment and software for Laboratories         284543926  \n",
      "Engineering Workshops                                       0  \n",
      "Other expenditure on creation of Capital Assets...  356546168  \n",
      "\n",
      "2019-20    int32\n",
      "2018-19    int32\n",
      "2017-18    int32\n",
      "dtype: object\n"
     ]
    }
   ],
   "source": [
    "capex_5 = rank_5[8].df\n",
    "capex_5.drop(index=[0,1,2],axis=0,inplace=True)\n",
    "\n",
    "capex_5.set_index(keys=0,drop=True,inplace=True)\n",
    "\n",
    "capex_5.columns = ['2019-20','2018-19','2017-18']\n",
    "\n",
    "records = [0,1,2,3]\n",
    "\n",
    "for i in records:\n",
    "    capex_5.iloc[i,0] = capex_5.iloc[i,0].split(' (')[0]\n",
    "    \n",
    "for i in records:\n",
    "    capex_5.iloc[i,1] = capex_5.iloc[i,1].split('(')[0]\n",
    "    \n",
    "for i in records:\n",
    "    capex_5.iloc[i,2] = capex_5.iloc[i,2].split('(')[0]\n",
    "\n",
    "int_columns = capex_5.columns\n",
    "\n",
    "for col in int_columns:\n",
    "    capex_5[col] = capex_5[col].astype('int')\n",
    "    \n",
    "print(capex_5)\n",
    "print()\n",
    "print(capex_5.dtypes)"
   ]
  },
  {
   "cell_type": "code",
   "execution_count": 188,
   "id": "aa2a912d",
   "metadata": {},
   "outputs": [],
   "source": [
    "dfs = {'1_iitm' : capex_1,'2_iitd' : capex_2,'3_iitb' : capex_3,\n",
    "      '4_iitk' : capex_4,'5_iitkh' : capex_5}"
   ]
  },
  {
   "cell_type": "code",
   "execution_count": 189,
   "id": "0a59b28f",
   "metadata": {},
   "outputs": [],
   "source": [
    "writer = pd.ExcelWriter('Capex.xlsx', engine='xlsxwriter')\n",
    "\n",
    "for sheet_name in dfs.keys():\n",
    "    \n",
    "    dfs[sheet_name].to_excel(writer, sheet_name=sheet_name, index=True)\n",
    "    \n",
    "writer.save()"
   ]
  },
  {
   "cell_type": "markdown",
   "id": "45e17b96",
   "metadata": {},
   "source": [
    "# OpEx"
   ]
  },
  {
   "cell_type": "code",
   "execution_count": 190,
   "id": "81927da9",
   "metadata": {},
   "outputs": [
    {
     "data": {
      "text/html": [
       "<div>\n",
       "<style scoped>\n",
       "    .dataframe tbody tr th:only-of-type {\n",
       "        vertical-align: middle;\n",
       "    }\n",
       "\n",
       "    .dataframe tbody tr th {\n",
       "        vertical-align: top;\n",
       "    }\n",
       "\n",
       "    .dataframe thead th {\n",
       "        text-align: right;\n",
       "    }\n",
       "</style>\n",
       "<table border=\"1\" class=\"dataframe\">\n",
       "  <thead>\n",
       "    <tr style=\"text-align: right;\">\n",
       "      <th></th>\n",
       "      <th>2019-20</th>\n",
       "      <th>2018-19</th>\n",
       "      <th>2017-18</th>\n",
       "    </tr>\n",
       "    <tr>\n",
       "      <th>0</th>\n",
       "      <th></th>\n",
       "      <th></th>\n",
       "      <th></th>\n",
       "    </tr>\n",
       "  </thead>\n",
       "  <tbody>\n",
       "    <tr>\n",
       "      <th>Salaries (Teaching and Non Teaching staff)</th>\n",
       "      <td>5602172731</td>\n",
       "      <td>4757984997</td>\n",
       "      <td>4186317653</td>\n",
       "    </tr>\n",
       "    <tr>\n",
       "      <th>Maintenance of Academic Infrastructure or consumables and\\nother running expenditures(excluding maintenance of hostels\\nand allied services,rent of the building, depreciation cost, etc)</th>\n",
       "      <td>3991835986</td>\n",
       "      <td>3281409271</td>\n",
       "      <td>2153212601</td>\n",
       "    </tr>\n",
       "    <tr>\n",
       "      <th>Seminars/Conferences/Workshops</th>\n",
       "      <td>171971644</td>\n",
       "      <td>274675976</td>\n",
       "      <td>276382767</td>\n",
       "    </tr>\n",
       "  </tbody>\n",
       "</table>\n",
       "</div>"
      ],
      "text/plain": [
       "                                                       2019-20     2018-19  \\\n",
       "0                                                                            \n",
       "Salaries (Teaching and Non Teaching staff)          5602172731  4757984997   \n",
       "Maintenance of Academic Infrastructure or consu...  3991835986  3281409271   \n",
       "Seminars/Conferences/Workshops                       171971644   274675976   \n",
       "\n",
       "                                                       2017-18  \n",
       "0                                                               \n",
       "Salaries (Teaching and Non Teaching staff)          4186317653  \n",
       "Maintenance of Academic Infrastructure or consu...  2153212601  \n",
       "Seminars/Conferences/Workshops                       276382767  "
      ]
     },
     "execution_count": 190,
     "metadata": {},
     "output_type": "execute_result"
    }
   ],
   "source": [
    "opex_1 = rank_1[8].df\n",
    "\n",
    "opex_1.drop(index=[0,1,2],axis=0,inplace=True)\n",
    "opex_1.set_index(keys=0,drop=True,inplace=True)\n",
    "\n",
    "opex_1.columns = ['2019-20','2018-19','2017-18']\n",
    "\n",
    "records = [0,1,2]\n",
    "\n",
    "for i in records:\n",
    "    opex_1.iloc[i,0] = opex_1.iloc[i,0].split(' (')[0]\n",
    "    \n",
    "for i in records:\n",
    "    opex_1.iloc[i,1] = opex_1.iloc[i,1].split(' (')[0]\n",
    "    \n",
    "for i in records:\n",
    "    opex_1.iloc[i,2] = opex_1.iloc[i,2].split(' (')[0]\n",
    "    \n",
    "int_columns = opex_1.columns\n",
    "\n",
    "opex_1"
   ]
  },
  {
   "cell_type": "code",
   "execution_count": 191,
   "id": "0b4035ba",
   "metadata": {},
   "outputs": [
    {
     "name": "stdout",
     "output_type": "stream",
     "text": [
      "                                                       2019-20     2018-19  \\\n",
      "0                                                                            \n",
      "Salaries (Teaching and Non Teaching staff)          5602172731  4757984997   \n",
      "Maintenance of Academic Infrastructure or consu...  3991835986  3281409271   \n",
      "Seminars/Conferences/Workshops                       171971644   274675976   \n",
      "\n",
      "                                                       2017-18  \n",
      "0                                                               \n",
      "Salaries (Teaching and Non Teaching staff)          4186317653  \n",
      "Maintenance of Academic Infrastructure or consu...  2153212601  \n",
      "Seminars/Conferences/Workshops                       276382767  \n",
      "\n",
      "2019-20    int64\n",
      "2018-19    int64\n",
      "2017-18    int64\n",
      "dtype: object\n"
     ]
    }
   ],
   "source": [
    "for col in int_columns:\n",
    "    opex_1[col] = opex_1[col].astype('int64')\n",
    "    \n",
    "print(opex_1)\n",
    "print()\n",
    "print(opex_1.dtypes)"
   ]
  },
  {
   "cell_type": "code",
   "execution_count": 192,
   "id": "a9d3039f",
   "metadata": {},
   "outputs": [
    {
     "name": "stdout",
     "output_type": "stream",
     "text": [
      "                                                       2019-20     2018-19  \\\n",
      "0                                                                            \n",
      "Salaries (Teaching and Non Teaching staff)          3428644542  3149997422   \n",
      "Maintenance of Academic Infrastructure or consu...  3200750453  3320391541   \n",
      "Seminars/Conferences/Workshops                        13001549    12181807   \n",
      "\n",
      "                                                       2017-18  \n",
      "0                                                               \n",
      "Salaries (Teaching and Non Teaching staff)          2938334866  \n",
      "Maintenance of Academic Infrastructure or consu...  1138287592  \n",
      "Seminars/Conferences/Workshops                         7558331  \n",
      "\n",
      "2019-20    int64\n",
      "2018-19    int64\n",
      "2017-18    int64\n",
      "dtype: object\n"
     ]
    }
   ],
   "source": [
    "opex_2 = rank_2[8].df\n",
    "\n",
    "opex_2.drop(index=[0,1,2],axis=0,inplace=True)\n",
    "opex_2.set_index(keys=0,drop=True,inplace=True)\n",
    "\n",
    "opex_2.columns = ['2019-20','2018-19','2017-18']\n",
    "\n",
    "records = [0,1,2]\n",
    "\n",
    "for i in records:\n",
    "    opex_2.iloc[i,0] = opex_2.iloc[i,0].split(' (')[0]\n",
    "    \n",
    "for i in records:\n",
    "    opex_2.iloc[i,1] = opex_2.iloc[i,1].split(' (')[0]\n",
    "    \n",
    "for i in records:\n",
    "    opex_2.iloc[i,2] = opex_2.iloc[i,2].split(' (')[0]\n",
    "    \n",
    "int_columns = opex_2.columns\n",
    "\n",
    "for col in int_columns:\n",
    "    opex_2[col] = opex_2[col].astype('int64')\n",
    "    \n",
    "print(opex_2)\n",
    "print()\n",
    "print(opex_2.dtypes)"
   ]
  },
  {
   "cell_type": "code",
   "execution_count": 193,
   "id": "4b63b3ec",
   "metadata": {},
   "outputs": [
    {
     "name": "stdout",
     "output_type": "stream",
     "text": [
      "                                                       2019-20     2018-19  \\\n",
      "0                                                                            \n",
      "Salaries (Teaching and Non Teaching staff)          2793949100  2411615557   \n",
      "Maintenance of Academic Infrastructure or consu...  1354334734  1236119545   \n",
      "Seminars/Conferences/Workshops                        31042409    25232526   \n",
      "\n",
      "                                                       2017-18  \n",
      "0                                                               \n",
      "Salaries (Teaching and Non Teaching staff)          1851253274  \n",
      "Maintenance of Academic Infrastructure or consu...  1239777565  \n",
      "Seminars/Conferences/Workshops                        28408263  \n",
      "\n",
      "2019-20    int64\n",
      "2018-19    int64\n",
      "2017-18    int64\n",
      "dtype: object\n"
     ]
    }
   ],
   "source": [
    "opex_3 = rank_3[7].df\n",
    "opex_3.drop(index=[0,1,2],axis=0,inplace=True)\n",
    "opex_3.set_index(keys=0,drop=True,inplace=True)\n",
    "\n",
    "opex_3.columns = ['2019-20','2018-19','2017-18']\n",
    "\n",
    "records = [0,1,2]\n",
    "\n",
    "for i in records:\n",
    "    opex_3.iloc[i,0] = opex_3.iloc[i,0].split(' (')[0]\n",
    "    \n",
    "for i in records:\n",
    "    opex_3.iloc[i,1] = opex_3.iloc[i,1].split(' (')[0]\n",
    "    \n",
    "for i in records:\n",
    "    opex_3.iloc[i,2] = opex_3.iloc[i,2].split(' (')[0]\n",
    "    \n",
    "int_columns = opex_3.columns\n",
    "\n",
    "for col in int_columns:\n",
    "    opex_3[col] = opex_3[col].astype('int64')\n",
    "    \n",
    "print(opex_3)\n",
    "print()\n",
    "print(opex_3.dtypes)"
   ]
  },
  {
   "cell_type": "code",
   "execution_count": 194,
   "id": "2a0e26d4",
   "metadata": {},
   "outputs": [
    {
     "name": "stdout",
     "output_type": "stream",
     "text": [
      "                                                       2019-20     2018-19  \\\n",
      "0                                                                            \n",
      "Salaries (Teaching and Non Teaching staff)          2682258598  2368800000   \n",
      "Maintenance of Academic Infrastructure or consu...  4205644095  3829008261   \n",
      "Seminars/Conferences/Workshops                        51900000    51100000   \n",
      "\n",
      "                                                       2017-18  \n",
      "0                                                               \n",
      "Salaries (Teaching and Non Teaching staff)          2476200000  \n",
      "Maintenance of Academic Infrastructure or consu...  2735064076  \n",
      "Seminars/Conferences/Workshops                        61200000  \n",
      "\n",
      "2019-20    int64\n",
      "2018-19    int64\n",
      "2017-18    int64\n",
      "dtype: object\n"
     ]
    }
   ],
   "source": [
    "opex_4 = rank_4[6].df\n",
    "opex_4.drop(index=[0,1,2],axis=0,inplace=True)\n",
    "opex_4.set_index(keys=0,drop=True,inplace=True)\n",
    "\n",
    "opex_4.columns = ['2019-20','2018-19','2017-18']\n",
    "\n",
    "records = [0,1,2]\n",
    "\n",
    "for i in records:\n",
    "    opex_4.iloc[i,0] = opex_4.iloc[i,0].split(' (')[0]\n",
    "    \n",
    "for i in records:\n",
    "    opex_4.iloc[i,1] = opex_4.iloc[i,1].split(' (')[0]\n",
    "    \n",
    "for i in records:\n",
    "    opex_4.iloc[i,2] = opex_4.iloc[i,2].split(' (')[0]\n",
    "    \n",
    "int_columns = opex_4.columns\n",
    "\n",
    "for col in int_columns:\n",
    "    opex_4[col] = opex_4[col].astype('int64')\n",
    "    \n",
    "print(opex_4)\n",
    "print()\n",
    "print(opex_4.dtypes)"
   ]
  },
  {
   "cell_type": "code",
   "execution_count": 195,
   "id": "4d857aa0",
   "metadata": {},
   "outputs": [
    {
     "name": "stdout",
     "output_type": "stream",
     "text": [
      "                                                       2019-20     2018-19  \\\n",
      "0                                                                            \n",
      "Salaries (Teaching and Non Teaching staff)          2397988057  2483324100   \n",
      "Maintenance of Academic Infrastructure or consu...  3612167542  3118397838   \n",
      "Seminars/Conferences/Workshops                        30364822    45360958   \n",
      "\n",
      "                                                       2017-18  \n",
      "0                                                               \n",
      "Salaries (Teaching and Non Teaching staff)          1570050808  \n",
      "Maintenance of Academic Infrastructure or consu...  1769209628  \n",
      "Seminars/Conferences/Workshops                        64792095  \n",
      "\n",
      "2019-20    int64\n",
      "2018-19    int64\n",
      "2017-18    int64\n",
      "dtype: object\n"
     ]
    }
   ],
   "source": [
    "opex_5 = rank_5[9].df\n",
    "opex_5.drop(index=[0,1,2],axis=0,inplace=True)\n",
    "opex_5.set_index(keys=0,drop=True,inplace=True)\n",
    "\n",
    "opex_5.columns = ['2019-20','2018-19','2017-18']\n",
    "\n",
    "records = [0,1,2]\n",
    "\n",
    "for i in records:\n",
    "    opex_5.iloc[i,0] = opex_5.iloc[i,0].split(' (')[0]\n",
    "    \n",
    "for i in records:\n",
    "    opex_5.iloc[i,1] = opex_5.iloc[i,1].split(' (')[0]\n",
    "    \n",
    "for i in records:\n",
    "    opex_5.iloc[i,2] = opex_5.iloc[i,2].split(' (')[0]\n",
    "    \n",
    "int_columns = opex_5.columns\n",
    "\n",
    "for col in int_columns:\n",
    "    opex_5[col] = opex_5[col].astype('int64')\n",
    "    \n",
    "print(opex_5)\n",
    "print()\n",
    "print(opex_5.dtypes)"
   ]
  },
  {
   "cell_type": "code",
   "execution_count": 196,
   "id": "ef9e5da7",
   "metadata": {},
   "outputs": [],
   "source": [
    "dfs = {'1_iitm' : opex_1,'2_iitd' : opex_2,'3_iitb' : opex_3,\n",
    "      '4_iitk' : opex_4,'5_iitkh' : opex_5}"
   ]
  },
  {
   "cell_type": "code",
   "execution_count": 197,
   "id": "7063f77a",
   "metadata": {},
   "outputs": [],
   "source": [
    "writer = pd.ExcelWriter('Opex.xlsx', engine='xlsxwriter')\n",
    "\n",
    "for sheet_name in dfs.keys():\n",
    "    \n",
    "    dfs[sheet_name].to_excel(writer, sheet_name=sheet_name, index=True)\n",
    "    \n",
    "writer.save()"
   ]
  }
 ],
 "metadata": {
  "kernelspec": {
   "display_name": "Python 3 (ipykernel)",
   "language": "python",
   "name": "python3"
  },
  "language_info": {
   "codemirror_mode": {
    "name": "ipython",
    "version": 3
   },
   "file_extension": ".py",
   "mimetype": "text/x-python",
   "name": "python",
   "nbconvert_exporter": "python",
   "pygments_lexer": "ipython3",
   "version": "3.9.12"
  }
 },
 "nbformat": 4,
 "nbformat_minor": 5
}
